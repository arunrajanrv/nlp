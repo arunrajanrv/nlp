{
  "nbformat": 4,
  "nbformat_minor": 0,
  "metadata": {
    "colab": {
      "name": "NLP live project.ipynb",
      "provenance": [],
      "collapsed_sections": []
    },
    "kernelspec": {
      "name": "python3",
      "display_name": "Python 3"
    }
  },
  "cells": [
    {
      "cell_type": "code",
      "metadata": {
        "colab": {
          "base_uri": "https://localhost:8080/"
        },
        "id": "57hFa9NJtV2V",
        "outputId": "1c751243-423f-44ad-dbd3-56239a8b7e42"
      },
      "source": [
        "import string\r\n",
        "from nltk.corpus import stopwords\r\n",
        "import nltk\r\n",
        "nltk.download('wordnet')\r\n",
        "nltk.download('punkt')\r\n",
        "from nltk.wsd import lesk\r\n",
        "from nltk import word_tokenize\r\n",
        "import nltk\r\n",
        "nltk.download('stopwords')"
      ],
      "execution_count": null,
      "outputs": [
        {
          "output_type": "stream",
          "text": [
            "[nltk_data] Downloading package wordnet to /root/nltk_data...\n",
            "[nltk_data]   Unzipping corpora/wordnet.zip.\n",
            "[nltk_data] Downloading package punkt to /root/nltk_data...\n",
            "[nltk_data]   Unzipping tokenizers/punkt.zip.\n",
            "[nltk_data] Downloading package stopwords to /root/nltk_data...\n",
            "[nltk_data]   Unzipping corpora/stopwords.zip.\n"
          ],
          "name": "stdout"
        },
        {
          "output_type": "execute_result",
          "data": {
            "text/plain": [
              "True"
            ]
          },
          "metadata": {
            "tags": []
          },
          "execution_count": 1
        }
      ]
    },
    {
      "cell_type": "code",
      "metadata": {
        "id": "KjvSOoF0f4Nb"
      },
      "source": [
        "import pandas as  pd\r\n",
        "import numpy as np"
      ],
      "execution_count": null,
      "outputs": []
    },
    {
      "cell_type": "code",
      "metadata": {
        "id": "sY__Al-Bte8c"
      },
      "source": [
        "def message_text_process(mess):\r\n",
        "    no_punctuation = [char for char in mess if char not in string.punctuation]\r\n",
        "    no_punctuation = ''.join(no_punctuation)\r\n",
        "    return [word for word in no_punctuation.split() if word.lower() \r\n",
        "            not in stopwords.words('english')]"
      ],
      "execution_count": null,
      "outputs": []
    },
    {
      "cell_type": "code",
      "metadata": {
        "id": "nZt8weWdf-D0"
      },
      "source": [
        "df=pd.read_excel('1000 leads.xlsx')"
      ],
      "execution_count": null,
      "outputs": []
    },
    {
      "cell_type": "code",
      "metadata": {
        "colab": {
          "base_uri": "https://localhost:8080/",
          "height": 419
        },
        "id": "CAAqf9byqKfw",
        "outputId": "5ef3d500-8061-442d-98eb-6407ed72f8ed"
      },
      "source": [
        "df"
      ],
      "execution_count": null,
      "outputs": [
        {
          "output_type": "execute_result",
          "data": {
            "text/html": [
              "<div>\n",
              "<style scoped>\n",
              "    .dataframe tbody tr th:only-of-type {\n",
              "        vertical-align: middle;\n",
              "    }\n",
              "\n",
              "    .dataframe tbody tr th {\n",
              "        vertical-align: top;\n",
              "    }\n",
              "\n",
              "    .dataframe thead th {\n",
              "        text-align: right;\n",
              "    }\n",
              "</style>\n",
              "<table border=\"1\" class=\"dataframe\">\n",
              "  <thead>\n",
              "    <tr style=\"text-align: right;\">\n",
              "      <th></th>\n",
              "      <th>Lead Name</th>\n",
              "      <th>Location</th>\n",
              "      <th>Status</th>\n",
              "      <th>Status information</th>\n",
              "      <th>Unnamed: 4</th>\n",
              "    </tr>\n",
              "  </thead>\n",
              "  <tbody>\n",
              "    <tr>\n",
              "      <th>0</th>\n",
              "      <td>Raja</td>\n",
              "      <td>hyderabad</td>\n",
              "      <td>Not Converted</td>\n",
              "      <td>14/8/prema: share me details, available in evn...</td>\n",
              "      <td>NaN</td>\n",
              "    </tr>\n",
              "    <tr>\n",
              "      <th>1</th>\n",
              "      <td>Anirudh Reddy</td>\n",
              "      <td>pune</td>\n",
              "      <td>Not Converted</td>\n",
              "      <td>14/8/prema: cal me tmrw, shared details to ema...</td>\n",
              "      <td>NaN</td>\n",
              "    </tr>\n",
              "    <tr>\n",
              "      <th>2</th>\n",
              "      <td>Sapna Dewani</td>\n",
              "      <td>bangalore</td>\n",
              "      <td>Converted</td>\n",
              "      <td>16|AuG|moHan:rnr</td>\n",
              "      <td>NaN</td>\n",
              "    </tr>\n",
              "    <tr>\n",
              "      <th>3</th>\n",
              "      <td>suresh</td>\n",
              "      <td>mumbai</td>\n",
              "      <td>Not Converted</td>\n",
              "      <td>14/8/17(Surendra):i want only Server 16|AuG|mo...</td>\n",
              "      <td>NaN</td>\n",
              "    </tr>\n",
              "    <tr>\n",
              "      <th>4</th>\n",
              "      <td>Akshay Shinde</td>\n",
              "      <td>hyderabad</td>\n",
              "      <td>Not Converted</td>\n",
              "      <td>14/8/prema:rnr 16/8/prema: gave info, he said ...</td>\n",
              "      <td>NaN</td>\n",
              "    </tr>\n",
              "    <tr>\n",
              "      <th>...</th>\n",
              "      <td>...</td>\n",
              "      <td>...</td>\n",
              "      <td>...</td>\n",
              "      <td>...</td>\n",
              "      <td>...</td>\n",
              "    </tr>\n",
              "    <tr>\n",
              "      <th>996</th>\n",
              "      <td>vipin</td>\n",
              "      <td>bangalore</td>\n",
              "      <td>Not Converted</td>\n",
              "      <td>25/4/17(Surendra):please send me details tomor...</td>\n",
              "      <td>NaN</td>\n",
              "    </tr>\n",
              "    <tr>\n",
              "      <th>997</th>\n",
              "      <td>dheeraj</td>\n",
              "      <td>chennai</td>\n",
              "      <td>Not Converted</td>\n",
              "      <td>24/4/17(prema): need CT, but our venue is far....</td>\n",
              "      <td>NaN</td>\n",
              "    </tr>\n",
              "    <tr>\n",
              "      <th>998</th>\n",
              "      <td>kuldeep singh</td>\n",
              "      <td>bangalore</td>\n",
              "      <td>Not Converted</td>\n",
              "      <td>24/Apr/moHan:intrstd in evng batch trail perd ...</td>\n",
              "      <td>NaN</td>\n",
              "    </tr>\n",
              "    <tr>\n",
              "      <th>999</th>\n",
              "      <td>ankur sharma</td>\n",
              "      <td>bangalore</td>\n",
              "      <td>Not Converted</td>\n",
              "      <td>1/5/17(Surendra):please share me details 11/5/...</td>\n",
              "      <td>NaN</td>\n",
              "    </tr>\n",
              "    <tr>\n",
              "      <th>1000</th>\n",
              "      <td>Saugata Chakrabarti</td>\n",
              "      <td>bangalore</td>\n",
              "      <td>Not Converted</td>\n",
              "      <td>24/4/17(prema): shared details need only Cert....</td>\n",
              "      <td>NaN</td>\n",
              "    </tr>\n",
              "  </tbody>\n",
              "</table>\n",
              "<p>1001 rows × 5 columns</p>\n",
              "</div>"
            ],
            "text/plain": [
              "                Lead Name  ... Unnamed: 4\n",
              "0                    Raja  ...        NaN\n",
              "1           Anirudh Reddy  ...        NaN\n",
              "2            Sapna Dewani  ...        NaN\n",
              "3                  suresh  ...        NaN\n",
              "4           Akshay Shinde  ...        NaN\n",
              "...                   ...  ...        ...\n",
              "996                 vipin  ...        NaN\n",
              "997               dheeraj  ...        NaN\n",
              "998         kuldeep singh  ...        NaN\n",
              "999          ankur sharma  ...        NaN\n",
              "1000  Saugata Chakrabarti  ...        NaN\n",
              "\n",
              "[1001 rows x 5 columns]"
            ]
          },
          "metadata": {
            "tags": []
          },
          "execution_count": 5
        }
      ]
    },
    {
      "cell_type": "code",
      "metadata": {
        "colab": {
          "base_uri": "https://localhost:8080/"
        },
        "id": "mY3-naINqLYy",
        "outputId": "7137ec08-991c-4f55-d2f1-36cfabd03489"
      },
      "source": [
        "#dropping the unnamed column\r\n",
        "df['Unnamed: 4'].unique()"
      ],
      "execution_count": null,
      "outputs": [
        {
          "output_type": "execute_result",
          "data": {
            "text/plain": [
              "array([nan])"
            ]
          },
          "metadata": {
            "tags": []
          },
          "execution_count": 6
        }
      ]
    },
    {
      "cell_type": "code",
      "metadata": {
        "id": "3M29nXtLqVie"
      },
      "source": [
        "df=df.drop(['Unnamed: 4'],axis=1)"
      ],
      "execution_count": null,
      "outputs": []
    },
    {
      "cell_type": "code",
      "metadata": {
        "id": "Ku7U8e0Bt2qw"
      },
      "source": [
        "df=df.dropna()"
      ],
      "execution_count": null,
      "outputs": []
    },
    {
      "cell_type": "code",
      "metadata": {
        "colab": {
          "base_uri": "https://localhost:8080/",
          "height": 419
        },
        "id": "R6kNG9fjquZN",
        "outputId": "1ea6934c-6829-4372-e754-a8ef1f4a95c9"
      },
      "source": [
        "df"
      ],
      "execution_count": null,
      "outputs": [
        {
          "output_type": "execute_result",
          "data": {
            "text/html": [
              "<div>\n",
              "<style scoped>\n",
              "    .dataframe tbody tr th:only-of-type {\n",
              "        vertical-align: middle;\n",
              "    }\n",
              "\n",
              "    .dataframe tbody tr th {\n",
              "        vertical-align: top;\n",
              "    }\n",
              "\n",
              "    .dataframe thead th {\n",
              "        text-align: right;\n",
              "    }\n",
              "</style>\n",
              "<table border=\"1\" class=\"dataframe\">\n",
              "  <thead>\n",
              "    <tr style=\"text-align: right;\">\n",
              "      <th></th>\n",
              "      <th>Lead Name</th>\n",
              "      <th>Location</th>\n",
              "      <th>Status</th>\n",
              "      <th>Status information</th>\n",
              "    </tr>\n",
              "  </thead>\n",
              "  <tbody>\n",
              "    <tr>\n",
              "      <th>0</th>\n",
              "      <td>Raja</td>\n",
              "      <td>hyderabad</td>\n",
              "      <td>Not Converted</td>\n",
              "      <td>14/8/prema: share me details, available in evn...</td>\n",
              "    </tr>\n",
              "    <tr>\n",
              "      <th>1</th>\n",
              "      <td>Anirudh Reddy</td>\n",
              "      <td>pune</td>\n",
              "      <td>Not Converted</td>\n",
              "      <td>14/8/prema: cal me tmrw, shared details to ema...</td>\n",
              "    </tr>\n",
              "    <tr>\n",
              "      <th>2</th>\n",
              "      <td>Sapna Dewani</td>\n",
              "      <td>bangalore</td>\n",
              "      <td>Converted</td>\n",
              "      <td>16|AuG|moHan:rnr</td>\n",
              "    </tr>\n",
              "    <tr>\n",
              "      <th>3</th>\n",
              "      <td>suresh</td>\n",
              "      <td>mumbai</td>\n",
              "      <td>Not Converted</td>\n",
              "      <td>14/8/17(Surendra):i want only Server 16|AuG|mo...</td>\n",
              "    </tr>\n",
              "    <tr>\n",
              "      <th>4</th>\n",
              "      <td>Akshay Shinde</td>\n",
              "      <td>hyderabad</td>\n",
              "      <td>Not Converted</td>\n",
              "      <td>14/8/prema:rnr 16/8/prema: gave info, he said ...</td>\n",
              "    </tr>\n",
              "    <tr>\n",
              "      <th>...</th>\n",
              "      <td>...</td>\n",
              "      <td>...</td>\n",
              "      <td>...</td>\n",
              "      <td>...</td>\n",
              "    </tr>\n",
              "    <tr>\n",
              "      <th>996</th>\n",
              "      <td>vipin</td>\n",
              "      <td>bangalore</td>\n",
              "      <td>Not Converted</td>\n",
              "      <td>25/4/17(Surendra):please send me details tomor...</td>\n",
              "    </tr>\n",
              "    <tr>\n",
              "      <th>997</th>\n",
              "      <td>dheeraj</td>\n",
              "      <td>chennai</td>\n",
              "      <td>Not Converted</td>\n",
              "      <td>24/4/17(prema): need CT, but our venue is far....</td>\n",
              "    </tr>\n",
              "    <tr>\n",
              "      <th>998</th>\n",
              "      <td>kuldeep singh</td>\n",
              "      <td>bangalore</td>\n",
              "      <td>Not Converted</td>\n",
              "      <td>24/Apr/moHan:intrstd in evng batch trail perd ...</td>\n",
              "    </tr>\n",
              "    <tr>\n",
              "      <th>999</th>\n",
              "      <td>ankur sharma</td>\n",
              "      <td>bangalore</td>\n",
              "      <td>Not Converted</td>\n",
              "      <td>1/5/17(Surendra):please share me details 11/5/...</td>\n",
              "    </tr>\n",
              "    <tr>\n",
              "      <th>1000</th>\n",
              "      <td>Saugata Chakrabarti</td>\n",
              "      <td>bangalore</td>\n",
              "      <td>Not Converted</td>\n",
              "      <td>24/4/17(prema): shared details need only Cert....</td>\n",
              "    </tr>\n",
              "  </tbody>\n",
              "</table>\n",
              "<p>956 rows × 4 columns</p>\n",
              "</div>"
            ],
            "text/plain": [
              "                Lead Name  ...                                 Status information\n",
              "0                    Raja  ...  14/8/prema: share me details, available in evn...\n",
              "1           Anirudh Reddy  ...  14/8/prema: cal me tmrw, shared details to ema...\n",
              "2            Sapna Dewani  ...                                   16|AuG|moHan:rnr\n",
              "3                  suresh  ...  14/8/17(Surendra):i want only Server 16|AuG|mo...\n",
              "4           Akshay Shinde  ...  14/8/prema:rnr 16/8/prema: gave info, he said ...\n",
              "...                   ...  ...                                                ...\n",
              "996                 vipin  ...  25/4/17(Surendra):please send me details tomor...\n",
              "997               dheeraj  ...  24/4/17(prema): need CT, but our venue is far....\n",
              "998         kuldeep singh  ...  24/Apr/moHan:intrstd in evng batch trail perd ...\n",
              "999          ankur sharma  ...  1/5/17(Surendra):please share me details 11/5/...\n",
              "1000  Saugata Chakrabarti  ...  24/4/17(prema): shared details need only Cert....\n",
              "\n",
              "[956 rows x 4 columns]"
            ]
          },
          "metadata": {
            "tags": []
          },
          "execution_count": 9
        }
      ]
    },
    {
      "cell_type": "code",
      "metadata": {
        "id": "GNv8R44mwmIi"
      },
      "source": [
        "#replacing the mistyped data \r\n",
        "df1=df.replace(['NOt Converted', 'Conveted'],['Not Converted', 'Converted '])"
      ],
      "execution_count": null,
      "outputs": []
    },
    {
      "cell_type": "code",
      "metadata": {
        "colab": {
          "base_uri": "https://localhost:8080/"
        },
        "id": "0UkXK2_JwUAd",
        "outputId": "654d5866-36ac-4594-8329-e55dcab4cc7e"
      },
      "source": [
        "df1['Status '].unique()"
      ],
      "execution_count": null,
      "outputs": [
        {
          "output_type": "execute_result",
          "data": {
            "text/plain": [
              "array(['Not Converted', 'Converted '], dtype=object)"
            ]
          },
          "metadata": {
            "tags": []
          },
          "execution_count": 11
        }
      ]
    },
    {
      "cell_type": "code",
      "metadata": {
        "colab": {
          "base_uri": "https://localhost:8080/",
          "height": 419
        },
        "id": "NVrPVoCqhSmN",
        "outputId": "3ea1a76e-eaf7-413a-be6f-148bdaf7140f"
      },
      "source": [
        "df1"
      ],
      "execution_count": null,
      "outputs": [
        {
          "output_type": "execute_result",
          "data": {
            "text/html": [
              "<div>\n",
              "<style scoped>\n",
              "    .dataframe tbody tr th:only-of-type {\n",
              "        vertical-align: middle;\n",
              "    }\n",
              "\n",
              "    .dataframe tbody tr th {\n",
              "        vertical-align: top;\n",
              "    }\n",
              "\n",
              "    .dataframe thead th {\n",
              "        text-align: right;\n",
              "    }\n",
              "</style>\n",
              "<table border=\"1\" class=\"dataframe\">\n",
              "  <thead>\n",
              "    <tr style=\"text-align: right;\">\n",
              "      <th></th>\n",
              "      <th>Lead Name</th>\n",
              "      <th>Location</th>\n",
              "      <th>Status</th>\n",
              "      <th>Status information</th>\n",
              "    </tr>\n",
              "  </thead>\n",
              "  <tbody>\n",
              "    <tr>\n",
              "      <th>0</th>\n",
              "      <td>Raja</td>\n",
              "      <td>hyderabad</td>\n",
              "      <td>Not Converted</td>\n",
              "      <td>14/8/prema: share me details, available in evn...</td>\n",
              "    </tr>\n",
              "    <tr>\n",
              "      <th>1</th>\n",
              "      <td>Anirudh Reddy</td>\n",
              "      <td>pune</td>\n",
              "      <td>Not Converted</td>\n",
              "      <td>14/8/prema: cal me tmrw, shared details to ema...</td>\n",
              "    </tr>\n",
              "    <tr>\n",
              "      <th>2</th>\n",
              "      <td>Sapna Dewani</td>\n",
              "      <td>bangalore</td>\n",
              "      <td>Converted</td>\n",
              "      <td>16|AuG|moHan:rnr</td>\n",
              "    </tr>\n",
              "    <tr>\n",
              "      <th>3</th>\n",
              "      <td>suresh</td>\n",
              "      <td>mumbai</td>\n",
              "      <td>Not Converted</td>\n",
              "      <td>14/8/17(Surendra):i want only Server 16|AuG|mo...</td>\n",
              "    </tr>\n",
              "    <tr>\n",
              "      <th>4</th>\n",
              "      <td>Akshay Shinde</td>\n",
              "      <td>hyderabad</td>\n",
              "      <td>Not Converted</td>\n",
              "      <td>14/8/prema:rnr 16/8/prema: gave info, he said ...</td>\n",
              "    </tr>\n",
              "    <tr>\n",
              "      <th>...</th>\n",
              "      <td>...</td>\n",
              "      <td>...</td>\n",
              "      <td>...</td>\n",
              "      <td>...</td>\n",
              "    </tr>\n",
              "    <tr>\n",
              "      <th>996</th>\n",
              "      <td>vipin</td>\n",
              "      <td>bangalore</td>\n",
              "      <td>Not Converted</td>\n",
              "      <td>25/4/17(Surendra):please send me details tomor...</td>\n",
              "    </tr>\n",
              "    <tr>\n",
              "      <th>997</th>\n",
              "      <td>dheeraj</td>\n",
              "      <td>chennai</td>\n",
              "      <td>Not Converted</td>\n",
              "      <td>24/4/17(prema): need CT, but our venue is far....</td>\n",
              "    </tr>\n",
              "    <tr>\n",
              "      <th>998</th>\n",
              "      <td>kuldeep singh</td>\n",
              "      <td>bangalore</td>\n",
              "      <td>Not Converted</td>\n",
              "      <td>24/Apr/moHan:intrstd in evng batch trail perd ...</td>\n",
              "    </tr>\n",
              "    <tr>\n",
              "      <th>999</th>\n",
              "      <td>ankur sharma</td>\n",
              "      <td>bangalore</td>\n",
              "      <td>Not Converted</td>\n",
              "      <td>1/5/17(Surendra):please share me details 11/5/...</td>\n",
              "    </tr>\n",
              "    <tr>\n",
              "      <th>1000</th>\n",
              "      <td>Saugata Chakrabarti</td>\n",
              "      <td>bangalore</td>\n",
              "      <td>Not Converted</td>\n",
              "      <td>24/4/17(prema): shared details need only Cert....</td>\n",
              "    </tr>\n",
              "  </tbody>\n",
              "</table>\n",
              "<p>956 rows × 4 columns</p>\n",
              "</div>"
            ],
            "text/plain": [
              "                Lead Name  ...                                 Status information\n",
              "0                    Raja  ...  14/8/prema: share me details, available in evn...\n",
              "1           Anirudh Reddy  ...  14/8/prema: cal me tmrw, shared details to ema...\n",
              "2            Sapna Dewani  ...                                   16|AuG|moHan:rnr\n",
              "3                  suresh  ...  14/8/17(Surendra):i want only Server 16|AuG|mo...\n",
              "4           Akshay Shinde  ...  14/8/prema:rnr 16/8/prema: gave info, he said ...\n",
              "...                   ...  ...                                                ...\n",
              "996                 vipin  ...  25/4/17(Surendra):please send me details tomor...\n",
              "997               dheeraj  ...  24/4/17(prema): need CT, but our venue is far....\n",
              "998         kuldeep singh  ...  24/Apr/moHan:intrstd in evng batch trail perd ...\n",
              "999          ankur sharma  ...  1/5/17(Surendra):please share me details 11/5/...\n",
              "1000  Saugata Chakrabarti  ...  24/4/17(prema): shared details need only Cert....\n",
              "\n",
              "[956 rows x 4 columns]"
            ]
          },
          "metadata": {
            "tags": []
          },
          "execution_count": 12
        }
      ]
    },
    {
      "cell_type": "code",
      "metadata": {
        "id": "qprxWg7G6X2e",
        "colab": {
          "base_uri": "https://localhost:8080/"
        },
        "outputId": "bde74c3c-d233-4c68-b8ad-a44efcb4591e"
      },
      "source": [
        "from sklearn.utils import resample\r\n",
        "#combine them back for resampling\r\n",
        "\r\n",
        "not_converted = df1[df1['Status ']==\"Not Converted\"]\r\n",
        "converted = df1[df1['Status ']=='Converted ']\r\n",
        "# upsample minority\r\n",
        "conv_upsampled = resample(converted,\r\n",
        "replace=True, # sample with replacement\r\n",
        "n_samples=len(not_converted), # match number in majority class\r\n",
        "random_state=27) # reproducible results\r\n",
        "# combine majority and upsampled minority\r\n",
        "data = pd.concat([not_converted, conv_upsampled])\r\n",
        "# check new class counts\r\n",
        "data['Status '].value_counts()"
      ],
      "execution_count": null,
      "outputs": [
        {
          "output_type": "execute_result",
          "data": {
            "text/plain": [
              "Converted        829\n",
              "Not Converted    829\n",
              "Name: Status , dtype: int64"
            ]
          },
          "metadata": {
            "tags": []
          },
          "execution_count": 13
        }
      ]
    },
    {
      "cell_type": "code",
      "metadata": {
        "colab": {
          "base_uri": "https://localhost:8080/",
          "height": 419
        },
        "id": "Gy08rgMhkE42",
        "outputId": "b33740d5-9724-4b77-931e-f2269cab304d"
      },
      "source": [
        "data"
      ],
      "execution_count": null,
      "outputs": [
        {
          "output_type": "execute_result",
          "data": {
            "text/html": [
              "<div>\n",
              "<style scoped>\n",
              "    .dataframe tbody tr th:only-of-type {\n",
              "        vertical-align: middle;\n",
              "    }\n",
              "\n",
              "    .dataframe tbody tr th {\n",
              "        vertical-align: top;\n",
              "    }\n",
              "\n",
              "    .dataframe thead th {\n",
              "        text-align: right;\n",
              "    }\n",
              "</style>\n",
              "<table border=\"1\" class=\"dataframe\">\n",
              "  <thead>\n",
              "    <tr style=\"text-align: right;\">\n",
              "      <th></th>\n",
              "      <th>Lead Name</th>\n",
              "      <th>Location</th>\n",
              "      <th>Status</th>\n",
              "      <th>Status information</th>\n",
              "    </tr>\n",
              "  </thead>\n",
              "  <tbody>\n",
              "    <tr>\n",
              "      <th>0</th>\n",
              "      <td>Raja</td>\n",
              "      <td>hyderabad</td>\n",
              "      <td>Not Converted</td>\n",
              "      <td>14/8/prema: share me details, available in evn...</td>\n",
              "    </tr>\n",
              "    <tr>\n",
              "      <th>1</th>\n",
              "      <td>Anirudh Reddy</td>\n",
              "      <td>pune</td>\n",
              "      <td>Not Converted</td>\n",
              "      <td>14/8/prema: cal me tmrw, shared details to ema...</td>\n",
              "    </tr>\n",
              "    <tr>\n",
              "      <th>3</th>\n",
              "      <td>suresh</td>\n",
              "      <td>mumbai</td>\n",
              "      <td>Not Converted</td>\n",
              "      <td>14/8/17(Surendra):i want only Server 16|AuG|mo...</td>\n",
              "    </tr>\n",
              "    <tr>\n",
              "      <th>4</th>\n",
              "      <td>Akshay Shinde</td>\n",
              "      <td>hyderabad</td>\n",
              "      <td>Not Converted</td>\n",
              "      <td>14/8/prema:rnr 16/8/prema: gave info, he said ...</td>\n",
              "    </tr>\n",
              "    <tr>\n",
              "      <th>5</th>\n",
              "      <td>Karthik</td>\n",
              "      <td>mumbai</td>\n",
              "      <td>Not Converted</td>\n",
              "      <td>12/8/17(Surendra):i will check demo(attended d...</td>\n",
              "    </tr>\n",
              "    <tr>\n",
              "      <th>...</th>\n",
              "      <td>...</td>\n",
              "      <td>...</td>\n",
              "      <td>...</td>\n",
              "      <td>...</td>\n",
              "    </tr>\n",
              "    <tr>\n",
              "      <th>335</th>\n",
              "      <td>Prashant</td>\n",
              "      <td>bangalore</td>\n",
              "      <td>Converted</td>\n",
              "      <td>10/JulY/moHan: not reachble 11/JulY/moHan:he w...</td>\n",
              "    </tr>\n",
              "    <tr>\n",
              "      <th>375</th>\n",
              "      <td>Jubin</td>\n",
              "      <td>bangalore</td>\n",
              "      <td>Converted</td>\n",
              "      <td>7/7/17(Surendra):not interested</td>\n",
              "    </tr>\n",
              "    <tr>\n",
              "      <th>30</th>\n",
              "      <td>Mohiuddin Khan</td>\n",
              "      <td>bangalore</td>\n",
              "      <td>Converted</td>\n",
              "      <td>8|aUg|moHan:rnr 9|aUg|moHan:rnr 11|aUg|moHan:r...</td>\n",
              "    </tr>\n",
              "    <tr>\n",
              "      <th>196</th>\n",
              "      <td>janardanareddy</td>\n",
              "      <td>bangalore</td>\n",
              "      <td>Converted</td>\n",
              "      <td>24/7/prema: available in mrng time 25/7/prema:...</td>\n",
              "    </tr>\n",
              "    <tr>\n",
              "      <th>245</th>\n",
              "      <td>sri harsha</td>\n",
              "      <td>pune</td>\n",
              "      <td>Converted</td>\n",
              "      <td>17/JulY/moHan:attnd tmrw evng session 19/JulY/...</td>\n",
              "    </tr>\n",
              "  </tbody>\n",
              "</table>\n",
              "<p>1658 rows × 4 columns</p>\n",
              "</div>"
            ],
            "text/plain": [
              "          Lead Name  ...                                 Status information\n",
              "0              Raja  ...  14/8/prema: share me details, available in evn...\n",
              "1     Anirudh Reddy  ...  14/8/prema: cal me tmrw, shared details to ema...\n",
              "3            suresh  ...  14/8/17(Surendra):i want only Server 16|AuG|mo...\n",
              "4     Akshay Shinde  ...  14/8/prema:rnr 16/8/prema: gave info, he said ...\n",
              "5           Karthik  ...  12/8/17(Surendra):i will check demo(attended d...\n",
              "..              ...  ...                                                ...\n",
              "335        Prashant  ...  10/JulY/moHan: not reachble 11/JulY/moHan:he w...\n",
              "375           Jubin  ...                    7/7/17(Surendra):not interested\n",
              "30   Mohiuddin Khan  ...  8|aUg|moHan:rnr 9|aUg|moHan:rnr 11|aUg|moHan:r...\n",
              "196  janardanareddy  ...  24/7/prema: available in mrng time 25/7/prema:...\n",
              "245      sri harsha  ...  17/JulY/moHan:attnd tmrw evng session 19/JulY/...\n",
              "\n",
              "[1658 rows x 4 columns]"
            ]
          },
          "metadata": {
            "tags": []
          },
          "execution_count": 14
        }
      ]
    },
    {
      "cell_type": "code",
      "metadata": {
        "id": "QZsIzlaPrF6N"
      },
      "source": [
        "#removing the unnecessary characters other than letters\r\n",
        "df2=data['Status information'].replace(regex = True, to_replace = '[^a-zA-Z]', value = ' ')"
      ],
      "execution_count": null,
      "outputs": []
    },
    {
      "cell_type": "code",
      "metadata": {
        "colab": {
          "base_uri": "https://localhost:8080/"
        },
        "id": "FMijUFQ7r0FO",
        "outputId": "c451654c-8a92-451b-81d3-510ae859e8c2"
      },
      "source": [
        "df2"
      ],
      "execution_count": null,
      "outputs": [
        {
          "output_type": "execute_result",
          "data": {
            "text/plain": [
              "0           prema  share me details  available in evn...\n",
              "1           prema  cal me tmrw  shared details to ema...\n",
              "3              Surendra  i want only Server    AuG mo...\n",
              "4           prema rnr      prema  gave info  he said ...\n",
              "5              Surendra  i will check demo attended d...\n",
              "                             ...                        \n",
              "335       JulY moHan  not reachble    JulY moHan he w...\n",
              "375                             Surendra  not interested\n",
              "30       aUg moHan rnr   aUg moHan rnr    aUg moHan r...\n",
              "196         prema  available in mrng time      prema ...\n",
              "245       JulY moHan attnd tmrw evng session    JulY ...\n",
              "Name: Status information, Length: 1658, dtype: object"
            ]
          },
          "metadata": {
            "tags": []
          },
          "execution_count": 16
        }
      ]
    },
    {
      "cell_type": "code",
      "metadata": {
        "colab": {
          "base_uri": "https://localhost:8080/",
          "height": 52
        },
        "id": "3InQFvCXxs5z",
        "outputId": "f653fede-db12-478b-f1b3-d5b073a96bd4"
      },
      "source": [
        "df2[0]"
      ],
      "execution_count": null,
      "outputs": [
        {
          "output_type": "execute_result",
          "data": {
            "application/vnd.google.colaboratory.intrinsic+json": {
              "type": "string"
            },
            "text/plain": [
              "'     prema  share me details  available in evng      prema  postponed the plans for training currently      prema  not interested now'"
            ]
          },
          "metadata": {
            "tags": []
          },
          "execution_count": 17
        }
      ]
    },
    {
      "cell_type": "code",
      "metadata": {
        "id": "qQfbG810vVgd"
      },
      "source": [
        "from sklearn.feature_extraction.text import CountVectorizer"
      ],
      "execution_count": null,
      "outputs": []
    },
    {
      "cell_type": "code",
      "metadata": {
        "id": "oqMMv43ZuZ8x"
      },
      "source": [
        "count_vec=CountVectorizer()"
      ],
      "execution_count": null,
      "outputs": []
    },
    {
      "cell_type": "code",
      "metadata": {
        "id": "LCre7WJEzN0_"
      },
      "source": [
        "bag_words = CountVectorizer(analyzer = message_text_process).fit(df2)"
      ],
      "execution_count": null,
      "outputs": []
    },
    {
      "cell_type": "code",
      "metadata": {
        "colab": {
          "base_uri": "https://localhost:8080/"
        },
        "id": "jLSHiGMTznVO",
        "outputId": "5804bfd5-9ca9-4433-8e2f-33376627c819"
      },
      "source": [
        "print(len(bag_words.vocabulary_))"
      ],
      "execution_count": null,
      "outputs": [
        {
          "output_type": "stream",
          "text": [
            "1268\n"
          ],
          "name": "stdout"
        }
      ]
    },
    {
      "cell_type": "code",
      "metadata": {
        "colab": {
          "base_uri": "https://localhost:8080/"
        },
        "id": "_mP0wBOrzqt9",
        "outputId": "24a8e68a-9e9d-46ff-f5cb-982c25a9e945"
      },
      "source": [
        "print(bag_words)"
      ],
      "execution_count": null,
      "outputs": [
        {
          "output_type": "stream",
          "text": [
            "CountVectorizer(analyzer=<function message_text_process at 0x7faeae062400>,\n",
            "                binary=False, decode_error='strict',\n",
            "                dtype=<class 'numpy.int64'>, encoding='utf-8', input='content',\n",
            "                lowercase=True, max_df=1.0, max_features=None, min_df=1,\n",
            "                ngram_range=(1, 1), preprocessor=None, stop_words=None,\n",
            "                strip_accents=None, token_pattern='(?u)\\\\b\\\\w\\\\w+\\\\b',\n",
            "                tokenizer=None, vocabulary=None)\n"
          ],
          "name": "stdout"
        }
      ]
    },
    {
      "cell_type": "code",
      "metadata": {
        "id": "LtsAtq90zs8t"
      },
      "source": [
        "message_bagwords = bag_words.transform(df2)"
      ],
      "execution_count": null,
      "outputs": []
    },
    {
      "cell_type": "code",
      "metadata": {
        "colab": {
          "base_uri": "https://localhost:8080/"
        },
        "id": "nWb5ulC4zzde",
        "outputId": "a6200502-a402-4abb-c884-3438afcce83d"
      },
      "source": [
        "print(message_bagwords)"
      ],
      "execution_count": null,
      "outputs": [
        {
          "output_type": "stream",
          "text": [
            "  (0, 278)\t1\n",
            "  (0, 424)\t1\n",
            "  (0, 454)\t1\n",
            "  (0, 540)\t1\n",
            "  (0, 660)\t1\n",
            "  (0, 886)\t1\n",
            "  (0, 906)\t1\n",
            "  (0, 911)\t3\n",
            "  (0, 1044)\t1\n",
            "  (0, 1155)\t1\n",
            "  (1, 3)\t1\n",
            "  (1, 323)\t1\n",
            "  (1, 337)\t1\n",
            "  (1, 344)\t1\n",
            "  (1, 454)\t2\n",
            "  (1, 512)\t3\n",
            "  (1, 730)\t1\n",
            "  (1, 799)\t1\n",
            "  (1, 911)\t3\n",
            "  (1, 961)\t1\n",
            "  (1, 996)\t1\n",
            "  (1, 1044)\t1\n",
            "  (1, 1045)\t1\n",
            "  (1, 1137)\t1\n",
            "  (2, 16)\t2\n",
            "  :\t:\n",
            "  (1657, 26)\t1\n",
            "  (1657, 80)\t5\n",
            "  (1657, 164)\t1\n",
            "  (1657, 212)\t1\n",
            "  (1657, 223)\t1\n",
            "  (1657, 261)\t1\n",
            "  (1657, 318)\t1\n",
            "  (1657, 344)\t1\n",
            "  (1657, 372)\t1\n",
            "  (1657, 383)\t1\n",
            "  (1657, 450)\t1\n",
            "  (1657, 486)\t1\n",
            "  (1657, 540)\t2\n",
            "  (1657, 768)\t1\n",
            "  (1657, 775)\t5\n",
            "  (1657, 800)\t1\n",
            "  (1657, 922)\t1\n",
            "  (1657, 934)\t1\n",
            "  (1657, 1013)\t1\n",
            "  (1657, 1036)\t1\n",
            "  (1657, 1037)\t1\n",
            "  (1657, 1043)\t1\n",
            "  (1657, 1093)\t1\n",
            "  (1657, 1137)\t2\n",
            "  (1657, 1167)\t1\n"
          ],
          "name": "stdout"
        }
      ]
    },
    {
      "cell_type": "code",
      "metadata": {
        "id": "lAjT9evqz2ee"
      },
      "source": [
        "from sklearn.feature_extraction.text import TfidfTransformer\r\n",
        "tfidf_transformer = TfidfTransformer().fit(message_bagwords)"
      ],
      "execution_count": null,
      "outputs": []
    },
    {
      "cell_type": "code",
      "metadata": {
        "id": "fnR2cSo7uKnZ"
      },
      "source": [
        "tfidf=TfidfTransformer()"
      ],
      "execution_count": null,
      "outputs": []
    },
    {
      "cell_type": "code",
      "metadata": {
        "id": "1IWdAOO2z6wA"
      },
      "source": [
        "message_tfidf = tfidf_transformer.transform(message_bagwords)"
      ],
      "execution_count": null,
      "outputs": []
    },
    {
      "cell_type": "code",
      "metadata": {
        "colab": {
          "base_uri": "https://localhost:8080/"
        },
        "id": "JZUzAJWdyFgO",
        "outputId": "d66625c5-a785-4f0d-865c-f38e8654b488"
      },
      "source": [
        "message_tfidf"
      ],
      "execution_count": null,
      "outputs": [
        {
          "output_type": "execute_result",
          "data": {
            "text/plain": [
              "<1658x1268 sparse matrix of type '<class 'numpy.float64'>'\n",
              "\twith 16267 stored elements in Compressed Sparse Row format>"
            ]
          },
          "metadata": {
            "tags": []
          },
          "execution_count": 26
        }
      ]
    },
    {
      "cell_type": "code",
      "metadata": {
        "colab": {
          "base_uri": "https://localhost:8080/"
        },
        "id": "t4geyai5z8-w",
        "outputId": "c47d7b1c-313f-472d-8891-efda7788e7a4"
      },
      "source": [
        "print(message_tfidf.shape)\r\n",
        "print(message_tfidf)"
      ],
      "execution_count": null,
      "outputs": [
        {
          "output_type": "stream",
          "text": [
            "(1658, 1268)\n",
            "  (0, 1155)\t0.3120121269481698\n",
            "  (0, 1044)\t0.18689242971035516\n",
            "  (0, 911)\t0.43983108148762684\n",
            "  (0, 906)\t0.3477145033978356\n",
            "  (0, 886)\t0.4590753285830721\n",
            "  (0, 660)\t0.2231960216878144\n",
            "  (0, 540)\t0.25790289093537205\n",
            "  (0, 454)\t0.13744492183434556\n",
            "  (0, 424)\t0.3477145033978356\n",
            "  (0, 278)\t0.2940848368472303\n",
            "  (1, 1137)\t0.17315961427477372\n",
            "  (1, 1045)\t0.10855542219362456\n",
            "  (1, 1044)\t0.13175803204286496\n",
            "  (1, 996)\t0.1818199775158013\n",
            "  (1, 961)\t0.33689394177888693\n",
            "  (1, 911)\t0.31007825099126407\n",
            "  (1, 799)\t0.1851108748370767\n",
            "  (1, 730)\t0.1874431690012388\n",
            "  (1, 512)\t0.5623295070037164\n",
            "  (1, 454)\t0.19379567640320938\n",
            "  (1, 344)\t0.1350886130952956\n",
            "  (1, 337)\t0.32364532874487945\n",
            "  (1, 323)\t0.15991100124076624\n",
            "  (1, 3)\t0.35556681308551824\n",
            "  (2, 1201)\t0.21144306721661874\n",
            "  :\t:\n",
            "  (1657, 1167)\t0.18728322239669273\n",
            "  (1657, 1137)\t0.22654514446583515\n",
            "  (1657, 1093)\t0.18728322239669273\n",
            "  (1657, 1043)\t0.1490685519480872\n",
            "  (1657, 1037)\t0.14552026680337207\n",
            "  (1657, 1036)\t0.10252752394971594\n",
            "  (1657, 1013)\t0.17620529111914562\n",
            "  (1657, 934)\t0.18728322239669273\n",
            "  (1657, 922)\t0.17861662607072015\n",
            "  (1657, 800)\t0.1490685519480872\n",
            "  (1657, 775)\t0.35647599310404593\n",
            "  (1657, 768)\t0.18410917317589626\n",
            "  (1657, 540)\t0.23787551875537313\n",
            "  (1657, 486)\t0.18728322239669273\n",
            "  (1657, 450)\t0.08538320717955859\n",
            "  (1657, 383)\t0.11597219268073916\n",
            "  (1657, 372)\t0.18123789639774943\n",
            "  (1657, 344)\t0.08836838051856721\n",
            "  (1657, 318)\t0.09653702163189701\n",
            "  (1657, 261)\t0.17189429170520854\n",
            "  (1657, 223)\t0.18728322239669273\n",
            "  (1657, 212)\t0.18123789639774943\n",
            "  (1657, 164)\t0.18728322239669273\n",
            "  (1657, 80)\t0.4619554721812863\n",
            "  (1657, 26)\t0.18728322239669273\n"
          ],
          "name": "stdout"
        }
      ]
    },
    {
      "cell_type": "code",
      "metadata": {
        "id": "xOAXUVV84ad4"
      },
      "source": [
        "from sklearn.ensemble import RandomForestClassifier"
      ],
      "execution_count": null,
      "outputs": []
    },
    {
      "cell_type": "code",
      "metadata": {
        "id": "VBKMhAeGz_Ig"
      },
      "source": [
        "from sklearn.model_selection import train_test_split\r\n",
        "X_train, X_test, y_train, y_test = train_test_split(message_tfidf,data['Status '] , test_size = 0.2)"
      ],
      "execution_count": null,
      "outputs": []
    },
    {
      "cell_type": "code",
      "metadata": {
        "id": "XEfBAwkCkZhf"
      },
      "source": [
        "model=RandomForestClassifier()"
      ],
      "execution_count": null,
      "outputs": []
    },
    {
      "cell_type": "code",
      "metadata": {
        "id": "HpF2PEHQkf1S"
      },
      "source": [
        "modelr=model.fit(X_train, y_train)"
      ],
      "execution_count": null,
      "outputs": []
    },
    {
      "cell_type": "code",
      "metadata": {
        "id": "Yq56Aw4VkpwS"
      },
      "source": [
        "predicted = modelr.predict(X_test)"
      ],
      "execution_count": null,
      "outputs": []
    },
    {
      "cell_type": "code",
      "metadata": {
        "colab": {
          "base_uri": "https://localhost:8080/"
        },
        "id": "IcNjXUHakvYi",
        "outputId": "fb5d6ad5-1e40-4922-99ce-a2e6235acc23"
      },
      "source": [
        "expected = y_test\r\n",
        "\r\n",
        "from sklearn import metrics\r\n",
        "print(metrics.classification_report(expected, predicted))\r\n",
        "print(metrics.confusion_matrix(expected, predicted))"
      ],
      "execution_count": null,
      "outputs": [
        {
          "output_type": "stream",
          "text": [
            "               precision    recall  f1-score   support\n",
            "\n",
            "   Converted        0.93      1.00      0.97       158\n",
            "Not Converted       1.00      0.94      0.97       174\n",
            "\n",
            "     accuracy                           0.97       332\n",
            "    macro avg       0.97      0.97      0.97       332\n",
            " weighted avg       0.97      0.97      0.97       332\n",
            "\n",
            "[[158   0]\n",
            " [ 11 163]]\n"
          ],
          "name": "stdout"
        }
      ]
    },
    {
      "cell_type": "code",
      "metadata": {
        "colab": {
          "base_uri": "https://localhost:8080/"
        },
        "id": "K4YP4w_Ekzhy",
        "outputId": "36de2a21-7d88-4807-ea7c-c9350bd34890"
      },
      "source": [
        "from sklearn.metrics import accuracy_score\r\n",
        "\r\n",
        "accuracy_score(expected,predicted)"
      ],
      "execution_count": null,
      "outputs": [
        {
          "output_type": "execute_result",
          "data": {
            "text/plain": [
              "0.9668674698795181"
            ]
          },
          "metadata": {
            "tags": []
          },
          "execution_count": 34
        }
      ]
    },
    {
      "cell_type": "code",
      "metadata": {
        "id": "TScqC83NyiyG"
      },
      "source": [
        "import pickle"
      ],
      "execution_count": null,
      "outputs": []
    },
    {
      "cell_type": "code",
      "metadata": {
        "id": "DwufVAMksxIj"
      },
      "source": [
        "pickle_out= open('RandomForestClassifier.pkl','wb')\r\n",
        "pickle.dump(model,pickle_out)\r\n",
        "pickle_out.close()"
      ],
      "execution_count": null,
      "outputs": []
    },
    {
      "cell_type": "code",
      "metadata": {
        "id": "kh6L6QR4tR_C"
      },
      "source": [
        "pickle_out = open('tfidf_Transformer.pkl', 'wb')\r\n",
        "pickle.dump(tfidf, pickle_out)\r\n",
        "pickle_out.close()"
      ],
      "execution_count": null,
      "outputs": []
    },
    {
      "cell_type": "code",
      "metadata": {
        "id": "yoLLN_DOuRTJ"
      },
      "source": [
        "pickle_out = open('count_vec.pkl', 'wb')\r\n",
        "pickle.dump(count_vec, pickle_out)\r\n",
        "pickle_out.close()"
      ],
      "execution_count": null,
      "outputs": []
    },
    {
      "cell_type": "code",
      "metadata": {
        "id": "8XBFPf7WufNh"
      },
      "source": [
        ""
      ],
      "execution_count": null,
      "outputs": []
    }
  ]
}