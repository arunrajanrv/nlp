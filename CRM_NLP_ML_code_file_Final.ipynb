{
  "nbformat": 4,
  "nbformat_minor": 0,
  "metadata": {
    "colab": {
      "name": "CRM NLP code file Final.ipynb",
      "provenance": [],
      "collapsed_sections": []
    },
    "kernelspec": {
      "name": "python3",
      "display_name": "Python 3"
    }
  },
  "cells": [
    {
      "cell_type": "code",
      "metadata": {
        "colab": {
          "base_uri": "https://localhost:8080/"
        },
        "id": "qCyWLghYwld7",
        "outputId": "bea21ab2-6f9a-40df-b30b-c0265c372ecd"
      },
      "source": [
        "\r\n",
        "import pandas as pd\r\n",
        "import numpy as np\r\n",
        "import re\r\n",
        "import string\r\n",
        "from nltk.corpus import stopwords\r\n",
        "from sklearn.feature_extraction.text import CountVectorizer\r\n",
        "from sklearn.feature_extraction.text import TfidfTransformer\r\n",
        "from sklearn.feature_extraction.text import CountVectorizer\r\n",
        "from sklearn.preprocessing import LabelEncoder\r\n",
        "from scipy.sparse import csr_matrix\r\n",
        "import xlrd\r\n",
        "import nltk\r\n",
        "!pip install nltk==3.5\r\n",
        "!pip install regex==2020.6.8\r\n",
        "!pip install joblib==0.16.0\r\n",
        "!pip install tqdm==4.47.0\r\n",
        "nltk.download('stopwords')"
      ],
      "execution_count": null,
      "outputs": [
        {
          "output_type": "stream",
          "text": [
            "Requirement already satisfied: nltk==3.5 in /usr/local/lib/python3.6/dist-packages (3.5)\n",
            "Requirement already satisfied: tqdm in /usr/local/lib/python3.6/dist-packages (from nltk==3.5) (4.47.0)\n",
            "Requirement already satisfied: joblib in /usr/local/lib/python3.6/dist-packages (from nltk==3.5) (0.16.0)\n",
            "Requirement already satisfied: click in /usr/local/lib/python3.6/dist-packages (from nltk==3.5) (7.1.2)\n",
            "Requirement already satisfied: regex in /usr/local/lib/python3.6/dist-packages (from nltk==3.5) (2020.6.8)\n",
            "Requirement already satisfied: regex==2020.6.8 in /usr/local/lib/python3.6/dist-packages (2020.6.8)\n",
            "Requirement already satisfied: joblib==0.16.0 in /usr/local/lib/python3.6/dist-packages (0.16.0)\n",
            "Requirement already satisfied: tqdm==4.47.0 in /usr/local/lib/python3.6/dist-packages (4.47.0)\n"
          ],
          "name": "stdout"
        },
        {
          "output_type": "stream",
          "text": [
            "[nltk_data] Downloading package stopwords to /root/nltk_data...\n",
            "[nltk_data]   Package stopwords is already up-to-date!\n"
          ],
          "name": "stderr"
        },
        {
          "output_type": "execute_result",
          "data": {
            "text/plain": [
              "True"
            ]
          },
          "metadata": {
            "tags": []
          },
          "execution_count": 33
        }
      ]
    },
    {
      "cell_type": "code",
      "metadata": {
        "id": "JoMZm4bAwvPa"
      },
      "source": [
        "df =  pd.read_excel('/content/drive/MyDrive/BEPEC/1000 leads.xlsx')\r\n"
      ],
      "execution_count": null,
      "outputs": []
    },
    {
      "cell_type": "code",
      "metadata": {
        "colab": {
          "base_uri": "https://localhost:8080/"
        },
        "id": "khwVVqU7xCwy",
        "outputId": "55cd1f43-d73e-403f-80e4-04cac2a03457"
      },
      "source": [
        "pd.set_option('display.max_rows', None)\r\n",
        "pd.set_option('display.max_columns', None)\r\n",
        "pd.set_option('display.width', None)\r\n",
        "pd.set_option('display.max_colwidth', -1)"
      ],
      "execution_count": null,
      "outputs": [
        {
          "output_type": "stream",
          "text": [
            "/usr/local/lib/python3.6/dist-packages/ipykernel_launcher.py:4: FutureWarning: Passing a negative integer is deprecated in version 1.0 and will not be supported in future version. Instead, use None to not limit the column width.\n",
            "  after removing the cwd from sys.path.\n"
          ],
          "name": "stderr"
        }
      ]
    },
    {
      "cell_type": "code",
      "metadata": {
        "id": "aPoiCjqDDtMH"
      },
      "source": [
        "df = df.rename(columns={'Status information':'Status_information','Status ':'Status'})"
      ],
      "execution_count": null,
      "outputs": []
    },
    {
      "cell_type": "code",
      "metadata": {
        "id": "O6vAU1MCDvQr"
      },
      "source": [
        "df[\"Location\"] = df[\"Location\"].str.lower()"
      ],
      "execution_count": null,
      "outputs": []
    },
    {
      "cell_type": "code",
      "metadata": {
        "id": "DDYJUWg5z8Tr"
      },
      "source": [
        "pattern = r\"\\d*\\/\\d*\\/[a-zA-z]*:|\\d*\\/\\d*\\/\\d*\\(\\w*\\):|\\d*\\|\\w*\\|\\w*:|\\(\\w*\\):|\\d*\\-\\d*\\-\\d*\\(\\w*\\):|\\d*\\/\\d*\\w*:|\\d*\\/\\w*:|\\d*\\/\\d*\\/\\w*\\|:|\\d*\\/\\d*\\ *\\(\\w*\\)|\\d*\\ *\\w*\\ *\\|\\ *\\w*\\ *:|\\d*\\/\\d*\\/\\d*\\(\\w*:|\\d*\\/\\w*\\/\\w*|\\d*\\/\\d*\\/\\d*\\|\\(\\w*\\)|\\(\\w*\\)|\\d*\\-\\d*\\-\\d*|^\\ *|^\\:\""
      ],
      "execution_count": null,
      "outputs": []
    },
    {
      "cell_type": "code",
      "metadata": {
        "id": "J82LGzkA0Jub"
      },
      "source": [
        "df[\"Status_information\"] = df[\"Status_information\"].apply(lambda x: re.sub(pattern,\" \",str(x)))"
      ],
      "execution_count": null,
      "outputs": []
    },
    {
      "cell_type": "code",
      "metadata": {
        "id": "a5s96ZNB1X2K"
      },
      "source": [
        "del df['Unnamed: 4']\r\n",
        "del df[\"Lead Name\"]"
      ],
      "execution_count": null,
      "outputs": []
    },
    {
      "cell_type": "code",
      "metadata": {
        "id": "Xk_FNmAR1cXy"
      },
      "source": [
        "df.dropna(inplace=True)"
      ],
      "execution_count": null,
      "outputs": []
    },
    {
      "cell_type": "code",
      "metadata": {
        "id": "uH0H93Y0I8hi"
      },
      "source": [
        "df['Status'] = df['Status'].str.lower()\r\n",
        "df['Status'] = df[\"Status\"].replace(' ','')\r\n",
        "\r\n",
        "df['Status'] = df[\"Status\"].str.replace('conveted','converted')\r\n",
        "\r\n",
        "df['Status'] = df[\"Status\"].str.replace('converted ','converted')"
      ],
      "execution_count": null,
      "outputs": []
    },
    {
      "cell_type": "code",
      "metadata": {
        "id": "YUvgT5xNwZV8"
      },
      "source": [
        "from sklearn.utils import resample\r\n",
        "# Separate majority and minority classes\r\n",
        "df_majority = df[df['Status'] == 'not converted']\r\n",
        "df_minority = df[df['Status'] == 'converted']\r\n",
        " \r\n",
        "# Upsample minority class\r\n",
        "df_minority_upsampled = resample(df_minority, \r\n",
        "                                 replace=True,     # sample with replacement\r\n",
        "                                 n_samples=len(df_majority),    # to match majority class\r\n",
        "                                 random_state=123) # random\r\n",
        " \r\n",
        "# Combine majority class with upsampled minority class\r\n",
        "df_upsampled = pd.concat([df_majority, df_minority_upsampled])"
      ],
      "execution_count": null,
      "outputs": []
    },
    {
      "cell_type": "code",
      "metadata": {
        "id": "CjjgARElyLbP"
      },
      "source": [
        "def message_text_process(mess):\r\n",
        "  no_punctuation = [char for char in mess if char]\r\n",
        "  no_punctuation = \"\".join(no_punctuation)\r\n",
        "  return [word for word in no_punctuation.split() if word.lower()\r\n",
        "          not in stopwords.words(\"english\")]"
      ],
      "execution_count": null,
      "outputs": []
    },
    {
      "cell_type": "code",
      "metadata": {
        "id": "IDI3FSif0oW0"
      },
      "source": [
        "df_upsampled['Status_information'] = df_upsampled['Status_information'].apply(message_text_process).astype(str)"
      ],
      "execution_count": null,
      "outputs": []
    },
    {
      "cell_type": "code",
      "metadata": {
        "id": "F7GfywRhx92A"
      },
      "source": [
        "from sklearn.feature_extraction.text import CountVectorizer #bag of words\r\n",
        "#data = message_text_process(df_upsampled[\"Status_information\"])\r\n",
        "#count_vec = CountVectorizer(analyzer=message_text_process)\r\n",
        "count_vec = CountVectorizer()\r\n",
        "X = count_vec.fit_transform(df_upsampled[\"Status_information\"])\r\n",
        "#X = count_vec.fit_transform(df_upsampled[\"Status_information\"])"
      ],
      "execution_count": null,
      "outputs": []
    },
    {
      "cell_type": "code",
      "metadata": {
        "id": "X9jt-ZC9ySD-"
      },
      "source": [
        "from sklearn.feature_extraction.text import TfidfTransformer #TF.IDF\r\n",
        "tfidf = TfidfTransformer()\r\n",
        "X = tfidf.fit_transform(X)"
      ],
      "execution_count": null,
      "outputs": []
    },
    {
      "cell_type": "code",
      "metadata": {
        "colab": {
          "base_uri": "https://localhost:8080/"
        },
        "id": "EBDO-rdZk7py",
        "outputId": "0d8f3808-c6f8-4172-8271-0c1b01179b14"
      },
      "source": [
        "X.shape"
      ],
      "execution_count": null,
      "outputs": [
        {
          "output_type": "execute_result",
          "data": {
            "text/plain": [
              "(1698, 1228)"
            ]
          },
          "metadata": {
            "tags": []
          },
          "execution_count": 48
        }
      ]
    },
    {
      "cell_type": "code",
      "metadata": {
        "colab": {
          "base_uri": "https://localhost:8080/"
        },
        "id": "Di7bb3hzdZC5",
        "outputId": "34dccea0-ad43-4daa-d853-cc2c81c373b2"
      },
      "source": [
        "X"
      ],
      "execution_count": null,
      "outputs": [
        {
          "output_type": "execute_result",
          "data": {
            "text/plain": [
              "<1698x1228 sparse matrix of type '<class 'numpy.float64'>'\n",
              "\twith 14190 stored elements in Compressed Sparse Row format>"
            ]
          },
          "metadata": {
            "tags": []
          },
          "execution_count": 49
        }
      ]
    },
    {
      "cell_type": "code",
      "metadata": {
        "id": "c0nQhon2yawO"
      },
      "source": [
        "from sklearn.model_selection import train_test_split\r\n",
        "X_train, X_test, y_train, y_test = train_test_split(X, df_upsampled['Status'], test_size=0.2, random_state=42)"
      ],
      "execution_count": null,
      "outputs": []
    },
    {
      "cell_type": "code",
      "metadata": {
        "colab": {
          "base_uri": "https://localhost:8080/"
        },
        "id": "ZXEe2vSgygbz",
        "outputId": "1cc0d2f2-5df5-4ae3-952c-d60502a1be41"
      },
      "source": [
        "#random foresset classifier with TFIDF\r\n",
        "from sklearn import metrics\r\n",
        "from sklearn.ensemble import RandomForestClassifier\r\n",
        "Random_Forest_Classifier = RandomForestClassifier()\r\n",
        "forest = Random_Forest_Classifier.fit(X_train,y_train)\r\n",
        "predicted = forest.predict(X_test)\r\n",
        "expected = y_test\r\n",
        "print(metrics.classification_report(expected, predicted))\r\n",
        "print(metrics.confusion_matrix(expected, predicted))"
      ],
      "execution_count": null,
      "outputs": [
        {
          "output_type": "stream",
          "text": [
            "               precision    recall  f1-score   support\n",
            "\n",
            "    converted       0.95      0.98      0.97       158\n",
            "not converted       0.98      0.96      0.97       182\n",
            "\n",
            "     accuracy                           0.97       340\n",
            "    macro avg       0.97      0.97      0.97       340\n",
            " weighted avg       0.97      0.97      0.97       340\n",
            "\n",
            "[[155   3]\n",
            " [  8 174]]\n"
          ],
          "name": "stdout"
        }
      ]
    },
    {
      "cell_type": "code",
      "metadata": {
        "id": "SSxNLdb4JvrY"
      },
      "source": [
        "import pickle"
      ],
      "execution_count": null,
      "outputs": []
    },
    {
      "cell_type": "code",
      "metadata": {
        "id": "-yeMlyl6JZzY"
      },
      "source": [
        "pickle_out = open('Random_Forest_Classifier.pkl', 'wb')\r\n",
        "pickle.dump(Random_Forest_Classifier, pickle_out)\r\n",
        "pickle_out.close()"
      ],
      "execution_count": null,
      "outputs": []
    },
    {
      "cell_type": "code",
      "metadata": {
        "id": "OTGPrecOJakG"
      },
      "source": [
        "pickle_out = open('tfidf_Transformer.pkl', 'wb')\r\n",
        "pickle.dump(tfidf, pickle_out)\r\n",
        "pickle_out.close()"
      ],
      "execution_count": null,
      "outputs": []
    },
    {
      "cell_type": "code",
      "metadata": {
        "id": "gHCMcDjsJbLn"
      },
      "source": [
        "pickle_out = open('count_vec.pkl', 'wb')\r\n",
        "pickle.dump(count_vec, pickle_out)\r\n",
        "pickle_out.close()"
      ],
      "execution_count": null,
      "outputs": []
    },
    {
      "cell_type": "code",
      "metadata": {
        "id": "i7sGyWDaygMH"
      },
      "source": [
        "def test_model():\r\n",
        "  test_text=input()\r\n",
        "  location_label = np.array(29).reshape(-1,1)\r\n",
        "\r\n",
        "  \r\n",
        "  bag_words_test = message_text_process(test_text)\r\n",
        "  # bag_words =  CountVectorizer(analyzer=message_text_process).fit(test_tex])\r\n",
        "  message_bagwords_test = count_vec.transform([test_text])\r\n",
        "  #tfid_transformer = TfidfTransformer().fit(message_bagwords)\r\n",
        "  message_tfidf = tfidf.transform(message_bagwords_test)\r\n",
        "  #message_tfidf = csr_matrix.toarray(message_tfidf)\r\n",
        "  #data = np.append(message_tfidf,location_label,axis=1)\r\n",
        "  \r\n",
        "  y_pred = Random_Forest_Classifier.predict(message_tfidf)\r\n",
        "\r\n",
        "  print(y_pred[0])\r\n",
        "  # print(location_label.shape)\r\n"
      ],
      "execution_count": null,
      "outputs": []
    },
    {
      "cell_type": "code",
      "metadata": {
        "colab": {
          "base_uri": "https://localhost:8080/"
        },
        "id": "V0ERUb7-zcO5",
        "outputId": "53bad578-9d1b-466f-aba6-3502a905e6d9"
      },
      "source": [
        "test_model()"
      ],
      "execution_count": null,
      "outputs": [
        {
          "output_type": "stream",
          "text": [
            "i am interested\n",
            "converted\n"
          ],
          "name": "stdout"
        }
      ]
    }
  ]
}